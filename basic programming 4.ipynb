{
 "cells": [
  {
   "cell_type": "code",
   "execution_count": null,
   "id": "d693b47c",
   "metadata": {},
   "outputs": [],
   "source": [
    "Write a Python Program to Find the Factorial of a Number?"
   ]
  },
  {
   "cell_type": "code",
   "execution_count": 1,
   "id": "ce6d7ef9",
   "metadata": {},
   "outputs": [
    {
     "name": "stdout",
     "output_type": "stream",
     "text": [
      "enter a num :12\n",
      "479001600\n"
     ]
    }
   ],
   "source": [
    "n= int(input('enter a num :'))\n",
    "p= 1\n",
    "for i in range(1,n+1):\n",
    "    p= i*p\n",
    "    \n",
    "    if (i==n):\n",
    "        print(p)\n",
    "        \n",
    "    \n",
    "    \n",
    "    "
   ]
  },
  {
   "cell_type": "code",
   "execution_count": null,
   "id": "ece6bde0",
   "metadata": {},
   "outputs": [],
   "source": []
  },
  {
   "cell_type": "code",
   "execution_count": null,
   "id": "4895d092",
   "metadata": {},
   "outputs": [],
   "source": [
    "Write a Python Program to Display the multiplication Table?"
   ]
  },
  {
   "cell_type": "code",
   "execution_count": 3,
   "id": "9a296422",
   "metadata": {},
   "outputs": [
    {
     "name": "stdout",
     "output_type": "stream",
     "text": [
      "enter a num whose table you want to print :13\n",
      "13 X 1 = 13\n",
      "13 X 2 = 26\n",
      "13 X 3 = 39\n",
      "13 X 4 = 52\n",
      "13 X 5 = 65\n",
      "13 X 6 = 78\n",
      "13 X 7 = 91\n",
      "13 X 8 = 104\n",
      "13 X 9 = 117\n",
      "13 X 10 = 130\n"
     ]
    }
   ],
   "source": [
    "num=int(input('enter a num whose table you want to print :'))\n",
    "\n",
    "for i in range(1,11):\n",
    "    \n",
    "    p = num*i\n",
    "    \n",
    "    print(num ,'X',i, '=', p)"
   ]
  },
  {
   "cell_type": "code",
   "execution_count": null,
   "id": "9f0a32b9",
   "metadata": {},
   "outputs": [],
   "source": []
  },
  {
   "cell_type": "code",
   "execution_count": null,
   "id": "7d56e4d8",
   "metadata": {},
   "outputs": [],
   "source": [
    "Write a Python Program to Print the Fibonacci sequence?"
   ]
  },
  {
   "cell_type": "code",
   "execution_count": 15,
   "id": "bdd9a7cd",
   "metadata": {},
   "outputs": [
    {
     "name": "stdout",
     "output_type": "stream",
     "text": [
      "enter value of nth term10\n",
      "0\n",
      "1\n",
      "1\n",
      "2\n",
      "3\n",
      "5\n",
      "8\n",
      "13\n",
      "21\n",
      "34\n"
     ]
    }
   ],
   "source": [
    "\n",
    "n= int(input('enter value of nth term'))\n",
    "a= 0\n",
    "b=1\n",
    "\n",
    "i=0\n",
    "while i < n:\n",
    "  \n",
    "    print(a)\n",
    "    \n",
    "    c= a+b\n",
    "    a=b\n",
    "    b=c\n",
    "    i= i+1\n",
    "    \n",
    "    \n",
    "    \n",
    "    \n",
    "    \n",
    "    \n",
    "    "
   ]
  },
  {
   "cell_type": "code",
   "execution_count": null,
   "id": "dbd46f00",
   "metadata": {},
   "outputs": [],
   "source": []
  },
  {
   "cell_type": "code",
   "execution_count": null,
   "id": "c1c073ee",
   "metadata": {},
   "outputs": [],
   "source": [
    "Write a Python Program to Check Armstrong Number?"
   ]
  },
  {
   "cell_type": "code",
   "execution_count": 19,
   "id": "a8ff13ff",
   "metadata": {},
   "outputs": [
    {
     "name": "stdout",
     "output_type": "stream",
     "text": [
      "enter a three digit number: 153\n",
      "number is a armstrong \n"
     ]
    }
   ],
   "source": [
    "num = int(input('enter a three digit number: '))\n",
    "s=0\n",
    "    \n",
    "temp = num    \n",
    "while (temp > 0):\n",
    "    \n",
    "    d = temp %10\n",
    "    s = s+ (d**3)\n",
    "    temp = temp//10\n",
    "    \n",
    "\n",
    "if s== num :\n",
    "    \n",
    "    print('number is a armstrong ')\n",
    "    \n",
    "else:\n",
    "    print('number is not a armstrong')"
   ]
  },
  {
   "cell_type": "code",
   "execution_count": null,
   "id": "faa9a42d",
   "metadata": {},
   "outputs": [],
   "source": []
  },
  {
   "cell_type": "code",
   "execution_count": 23,
   "id": "b74a0ce8",
   "metadata": {},
   "outputs": [
    {
     "name": "stdout",
     "output_type": "stream",
     "text": [
      "enter a n digit num : 1634\n",
      "number is a armstrong\n"
     ]
    }
   ],
   "source": [
    "num = int(input('enter a n digit num : '))\n",
    "\n",
    "l= len(str(num))\n",
    "s=0\n",
    "\n",
    "temp= num\n",
    "\n",
    "while(temp >0):\n",
    "    \n",
    "    d= temp%10\n",
    "    s= s+ (d**l)\n",
    "    temp= temp//10\n",
    "    \n",
    "if (s== num):\n",
    "     print('number is a armstrong')\n",
    "    \n",
    "else:\n",
    "     print('number is not a armstrong')"
   ]
  },
  {
   "cell_type": "code",
   "execution_count": null,
   "id": "d40c9bab",
   "metadata": {},
   "outputs": [],
   "source": []
  },
  {
   "cell_type": "code",
   "execution_count": null,
   "id": "0550a92c",
   "metadata": {},
   "outputs": [],
   "source": [
    "Write a Python Program to Find Armstrong Number in an Interval?"
   ]
  },
  {
   "cell_type": "code",
   "execution_count": 39,
   "id": "88cdd5d9",
   "metadata": {},
   "outputs": [
    {
     "name": "stdout",
     "output_type": "stream",
     "text": [
      "enter value of n :2000\n",
      "its a armstrong 153\n",
      "its a armstrong 370\n",
      "its a armstrong 371\n",
      "its a armstrong 407\n",
      "its a armstrong 1634\n"
     ]
    }
   ],
   "source": [
    "n = int(input('enter value of n :'))\n",
    "\n",
    "for i in range(100,n+1):\n",
    "        l = len(str(i)) \n",
    "        temp= i\n",
    "        s=0\n",
    "        while (temp>0):\n",
    "                d= temp%10\n",
    "                s= s+ (d**l)\n",
    "                temp= temp//10\n",
    "        if(s== i):\n",
    "            print('its a armstrong', i)\n",
    "        \n",
    "    \n",
    "    \n",
    "    "
   ]
  },
  {
   "cell_type": "code",
   "execution_count": null,
   "id": "ce7399c4",
   "metadata": {},
   "outputs": [],
   "source": []
  },
  {
   "cell_type": "code",
   "execution_count": null,
   "id": "f74c20cb",
   "metadata": {},
   "outputs": [],
   "source": [
    "Write a Python Program to Find the Sum of Natural Numbers?"
   ]
  },
  {
   "cell_type": "code",
   "execution_count": 43,
   "id": "9c24b4df",
   "metadata": {},
   "outputs": [
    {
     "name": "stdout",
     "output_type": "stream",
     "text": [
      " enter a number4\n",
      "10\n"
     ]
    }
   ],
   "source": [
    "n = int(input(' enter a number'))\n",
    "\n",
    "s= 0\n",
    "for i in range(1,n+1):\n",
    "    s= s+i\n",
    "    \n",
    "print(s)    \n"
   ]
  },
  {
   "cell_type": "code",
   "execution_count": null,
   "id": "c82c39ac",
   "metadata": {},
   "outputs": [],
   "source": []
  }
 ],
 "metadata": {
  "kernelspec": {
   "display_name": "Python 3 (ipykernel)",
   "language": "python",
   "name": "python3"
  },
  "language_info": {
   "codemirror_mode": {
    "name": "ipython",
    "version": 3
   },
   "file_extension": ".py",
   "mimetype": "text/x-python",
   "name": "python",
   "nbconvert_exporter": "python",
   "pygments_lexer": "ipython3",
   "version": "3.9.7"
  }
 },
 "nbformat": 4,
 "nbformat_minor": 5
}
