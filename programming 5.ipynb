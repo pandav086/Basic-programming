{
 "cells": [
  {
   "cell_type": "code",
   "execution_count": null,
   "id": "780b5306",
   "metadata": {},
   "outputs": [],
   "source": [
    "1. Write a Python Program to Find LCM?"
   ]
  },
  {
   "cell_type": "code",
   "execution_count": 18,
   "id": "2069f827",
   "metadata": {},
   "outputs": [
    {
     "name": "stdout",
     "output_type": "stream",
     "text": [
      " enter value of a :5\n",
      "enter value of b :6\n",
      "lcm of a and b is :  30\n"
     ]
    }
   ],
   "source": [
    "a= int(input(' enter value of a :'))\n",
    "b= int(input('enter value of b :'))\n",
    "\n",
    "if (a>b):\n",
    "    max = a\n",
    "    \n",
    "else:\n",
    "    max= b\n",
    "    \n",
    "    \n",
    "while (True):\n",
    "\n",
    "    if ((max % a == 0) and (max % b == 0)):\n",
    "        \n",
    "        lcm = max\n",
    "        \n",
    "        print('lcm of a and b is : ', lcm)\n",
    "            \n",
    "        break\n",
    "    \n",
    "    else:\n",
    "         \n",
    "        max = max + 1\n",
    "\n",
    "    "
   ]
  },
  {
   "cell_type": "code",
   "execution_count": null,
   "id": "95a482ec",
   "metadata": {},
   "outputs": [],
   "source": []
  },
  {
   "cell_type": "code",
   "execution_count": 1,
   "id": "02588b77",
   "metadata": {},
   "outputs": [
    {
     "name": "stdout",
     "output_type": "stream",
     "text": [
      "enter the first number :4\n",
      "enter the second number :6\n",
      "lcm is : 12\n"
     ]
    }
   ],
   "source": [
    "a= int(input('enter the first number :'))\n",
    "b= int(input('enter the second number :'))\n",
    "\n",
    "\n",
    "i= 1\n",
    "while(i>0):\n",
    "    if (i % a == 0) and (i % b== 0):\n",
    "        print('lcm is :', i)\n",
    "        break\n",
    "    i= i+1\n",
    "        "
   ]
  },
  {
   "cell_type": "code",
   "execution_count": null,
   "id": "6fe3d82d",
   "metadata": {},
   "outputs": [],
   "source": []
  },
  {
   "cell_type": "code",
   "execution_count": null,
   "id": "936550dd",
   "metadata": {},
   "outputs": [],
   "source": []
  },
  {
   "cell_type": "code",
   "execution_count": null,
   "id": "cd088fc0",
   "metadata": {},
   "outputs": [],
   "source": []
  },
  {
   "cell_type": "code",
   "execution_count": null,
   "id": "c1d2e9c3",
   "metadata": {},
   "outputs": [],
   "source": [
    "2. Write a Python Program to Find HCF?"
   ]
  },
  {
   "cell_type": "code",
   "execution_count": 19,
   "id": "357daa87",
   "metadata": {},
   "outputs": [
    {
     "name": "stdout",
     "output_type": "stream",
     "text": [
      " enter value of a :6\n",
      "enter value of b :7\n",
      "hcf is : 1\n"
     ]
    }
   ],
   "source": [
    "a= int(input(' enter value of a :'))\n",
    "b= int(input('enter value of b :'))\n",
    "\n",
    "\n",
    "if a>b:\n",
    "    \n",
    "    max= a\n",
    "    \n",
    "else:\n",
    "    max = b\n",
    "    \n",
    "\n",
    "while(max>0):\n",
    "    \n",
    "    if ((a% max ==0) and(b% max==0)):\n",
    "        \n",
    "        hcf = max\n",
    "        \n",
    "        print('hcf is :', hcf)\n",
    "        \n",
    "        break\n",
    "        \n",
    "    else:\n",
    "        \n",
    "        max= max-1\n"
   ]
  },
  {
   "cell_type": "code",
   "execution_count": null,
   "id": "fe45176d",
   "metadata": {},
   "outputs": [],
   "source": []
  },
  {
   "cell_type": "code",
   "execution_count": 2,
   "id": "c1f4fd1e",
   "metadata": {},
   "outputs": [
    {
     "name": "stdout",
     "output_type": "stream",
     "text": [
      "enter the first number :4\n",
      "enter the second number :6\n",
      "hcf is : 2\n"
     ]
    }
   ],
   "source": [
    "a= int(input('enter the first number :'))\n",
    "b= int(input('enter the second number :'))\n",
    "\n",
    "if (a >b):\n",
    "    low = b\n",
    "    \n",
    "else:\n",
    "    low =  a\n",
    "    \n",
    "    \n",
    "    \n",
    "    \n",
    "\n",
    "while(low >0):\n",
    "    if (a % low == 0) and (b % low == 0):\n",
    "        print('hcf is :', low)\n",
    "        break\n",
    "        \n",
    "    low = low - 1"
   ]
  },
  {
   "cell_type": "code",
   "execution_count": null,
   "id": "1b3ca6f9",
   "metadata": {},
   "outputs": [],
   "source": []
  },
  {
   "cell_type": "code",
   "execution_count": null,
   "id": "0de97f3d",
   "metadata": {},
   "outputs": [],
   "source": []
  },
  {
   "cell_type": "code",
   "execution_count": null,
   "id": "7c2b60fd",
   "metadata": {},
   "outputs": [],
   "source": [
    "3. Write a Python Program to Convert Decimal to Binary, Octal and Hexadecimal?"
   ]
  },
  {
   "cell_type": "code",
   "execution_count": null,
   "id": "bd16ec89",
   "metadata": {},
   "outputs": [],
   "source": []
  },
  {
   "cell_type": "code",
   "execution_count": 37,
   "id": "282a70b5",
   "metadata": {
    "scrolled": true
   },
   "outputs": [
    {
     "name": "stdout",
     "output_type": "stream",
     "text": [
      "The decimal value of 17 is:\n",
      "0b10001 in binary.\n",
      "0o21 in octal.\n",
      "0x11 in hexadecimal.\n"
     ]
    }
   ],
   "source": [
    "dec = 17\n",
    "\n",
    "print(\"The decimal value of\", dec, \"is:\")\n",
    "print(bin(dec), \"in binary.\")\n",
    "print(oct(dec), \"in octal.\")\n",
    "print(hex(dec), \"in hexadecimal.\")"
   ]
  },
  {
   "cell_type": "code",
   "execution_count": null,
   "id": "0ee39608",
   "metadata": {},
   "outputs": [],
   "source": []
  },
  {
   "cell_type": "code",
   "execution_count": 8,
   "id": "40103ec4",
   "metadata": {
    "scrolled": false
   },
   "outputs": [
    {
     "name": "stdout",
     "output_type": "stream",
     "text": [
      "Enter an integer: 20\n",
      "10100"
     ]
    }
   ],
   "source": [
    "def binary(n):\n",
    "   if n > 1:\n",
    "       binary(n//2)\n",
    "   print(n % 2,end = '')\n",
    "  \n",
    "# Take input number from user\n",
    "dec = int(input(\"Enter an integer: \"))\n",
    "binary(dec)"
   ]
  },
  {
   "cell_type": "code",
   "execution_count": null,
   "id": "0924b147",
   "metadata": {},
   "outputs": [],
   "source": []
  },
  {
   "cell_type": "code",
   "execution_count": 21,
   "id": "ada50423",
   "metadata": {},
   "outputs": [
    {
     "name": "stdout",
     "output_type": "stream",
     "text": [
      "Enter a Number : 17\n",
      "The Binary format for given number is : 10001\n"
     ]
    }
   ],
   "source": [
    "import math\n",
    "  \n",
    "num=int(input(\"Enter a Number : \"))\n",
    "rem=\"\"\n",
    "while num>=1:\n",
    "    rem+=str(num%2)\n",
    "    num=math.floor(num/2)\n",
    "  \n",
    "binary=\"\"\n",
    "for i in range(len(rem)-1,-1,-1):\n",
    "    binary = binary + rem[i]\n",
    "     \n",
    "print(\"The Binary format for given number is :\" , binary)\n"
   ]
  },
  {
   "cell_type": "code",
   "execution_count": null,
   "id": "c692d3f7",
   "metadata": {},
   "outputs": [],
   "source": []
  },
  {
   "cell_type": "code",
   "execution_count": 4,
   "id": "ffd61eac",
   "metadata": {},
   "outputs": [
    {
     "name": "stdout",
     "output_type": "stream",
     "text": [
      "Enter a Number : 17\n",
      "The Binary format for given number is : 10001\n"
     ]
    }
   ],
   "source": [
    "import math\n",
    "  \n",
    "num=int(input(\"Enter a Number : \"))\n",
    "rem=\"\"\n",
    "while num>=1:\n",
    "    rem+=str(num%2)\n",
    "    num=(num//2)\n",
    "  \n",
    "binary=\"\"\n",
    "for i in range(len(rem)-1,-1,-1):\n",
    "    binary = binary + rem[i]\n",
    "     \n",
    "print(\"The Binary format for given number is :\" , binary)\n"
   ]
  },
  {
   "cell_type": "code",
   "execution_count": null,
   "id": "20034ae5",
   "metadata": {},
   "outputs": [],
   "source": []
  },
  {
   "cell_type": "code",
   "execution_count": 5,
   "id": "d42d3611",
   "metadata": {},
   "outputs": [
    {
     "name": "stdout",
     "output_type": "stream",
     "text": [
      "Enter a Number : 17\n",
      "The octal format for given number is : 21\n"
     ]
    }
   ],
   "source": [
    "import math\n",
    "  \n",
    "num=int(input(\"Enter a Number : \"))\n",
    "rem=\"\"\n",
    "while num>=1:\n",
    "    rem+=str(num%8)\n",
    "    num=(num//8)\n",
    "  \n",
    "octal=\"\"\n",
    "for i in range(len(rem)-1,-1,-1):\n",
    "    octal = octal + rem[i]\n",
    "     \n",
    "print(\"The octal format for given number is :\" , octal )"
   ]
  },
  {
   "cell_type": "code",
   "execution_count": null,
   "id": "9d2f7f8b",
   "metadata": {},
   "outputs": [],
   "source": []
  },
  {
   "cell_type": "code",
   "execution_count": 6,
   "id": "3b39d1e6",
   "metadata": {},
   "outputs": [
    {
     "name": "stdout",
     "output_type": "stream",
     "text": [
      "Enter a Number : 17\n",
      "The hexa format for given number is : 11\n"
     ]
    }
   ],
   "source": [
    "import math\n",
    "  \n",
    "num=int(input(\"Enter a Number : \"))\n",
    "rem=\"\"\n",
    "while num>=1:\n",
    "    rem+=str(num%16)\n",
    "    num=(num//16)\n",
    "  \n",
    "hexa=\"\"\n",
    "for i in range(len(rem)-1,-1,-1):\n",
    "    hexa = hexa + rem[i]\n",
    "     \n",
    "print(\"The hexa format for given number is :\" , hexa )\n",
    "\n",
    "        "
   ]
  },
  {
   "cell_type": "code",
   "execution_count": null,
   "id": "e83f8eda",
   "metadata": {},
   "outputs": [],
   "source": []
  },
  {
   "cell_type": "code",
   "execution_count": null,
   "id": "3bb104ae",
   "metadata": {},
   "outputs": [],
   "source": []
  },
  {
   "cell_type": "code",
   "execution_count": null,
   "id": "34e8c067",
   "metadata": {},
   "outputs": [],
   "source": [
    "4. Write a Python Program To Find ASCII value of a character?"
   ]
  },
  {
   "cell_type": "code",
   "execution_count": null,
   "id": "e4638f74",
   "metadata": {},
   "outputs": [],
   "source": [
    "To find the ASCII value of a character, \n",
    "we can use the ord() function, \n",
    "which is a built-in function in Python that accepts a char (string of length 1) as argument and \n",
    "returns the unicode code point for that character. "
   ]
  },
  {
   "cell_type": "code",
   "execution_count": 15,
   "id": "03fc02ca",
   "metadata": {},
   "outputs": [
    {
     "name": "stdout",
     "output_type": "stream",
     "text": [
      "Enter any character: T\n",
      "The ASCII value of char T is:  84\n"
     ]
    }
   ],
   "source": [
    "\n",
    "ch = input(\"Enter any character: \")\n",
    "\n",
    "\n",
    "print(\"The ASCII value of char \" + ch + \" is: \",ord(ch))"
   ]
  },
  {
   "cell_type": "code",
   "execution_count": null,
   "id": "d3d61b4c",
   "metadata": {},
   "outputs": [],
   "source": []
  },
  {
   "cell_type": "code",
   "execution_count": null,
   "id": "aa2f5fd4",
   "metadata": {},
   "outputs": [],
   "source": []
  },
  {
   "cell_type": "code",
   "execution_count": null,
   "id": "dfdd66d1",
   "metadata": {},
   "outputs": [],
   "source": [
    "5. Write a Python Program to Make a Simple Calculator with 4 basic mathematical operations?"
   ]
  },
  {
   "cell_type": "code",
   "execution_count": 17,
   "id": "802219c4",
   "metadata": {},
   "outputs": [
    {
     "name": "stdout",
     "output_type": "stream",
     "text": [
      "select option :\n",
      "a. addition\n",
      "b.substraction\n",
      "c.multiplication\n",
      "d.division\n",
      "enter a choicea\n",
      "enter first number :3\n",
      "enter second number4\n",
      "7\n"
     ]
    }
   ],
   "source": [
    "def add(p,q):\n",
    "    return p+q\n",
    "\n",
    "def sub(p,q):\n",
    "    return p-q\n",
    "\n",
    "def mul(p,q):\n",
    "    return p*q\n",
    "\n",
    "def div(p,q):\n",
    "    return p/q\n",
    "    \n",
    "    \n",
    "print('select option :')\n",
    "\n",
    "print('a. addition')\n",
    "print('b.substraction')\n",
    "print('c.multiplication')\n",
    "print('d.division')\n",
    "    \n",
    "choice= input('enter a choice')\n",
    "\n",
    "num1 = int(input('enter first number :'))\n",
    "num2 = int(input('enter second number'))\n",
    "\n",
    "if choice == 'a':\n",
    "    print(add(num1, num2))\n",
    "    \n",
    "elif choice=='b':\n",
    "    print(sub(num1, num2))\n",
    "    \n",
    "elif choice=='c':\n",
    "    print(mul(num1, num2))\n",
    "    \n",
    "elif choice=='d':\n",
    "    print(div(num1, num2))\n",
    "    \n",
    "else:\n",
    "    print('invalid response')\n",
    "    "
   ]
  },
  {
   "cell_type": "code",
   "execution_count": null,
   "id": "221312ec",
   "metadata": {},
   "outputs": [],
   "source": []
  },
  {
   "cell_type": "code",
   "execution_count": null,
   "id": "543080be",
   "metadata": {},
   "outputs": [],
   "source": []
  },
  {
   "cell_type": "code",
   "execution_count": null,
   "id": "a4634f1b",
   "metadata": {},
   "outputs": [],
   "source": []
  }
 ],
 "metadata": {
  "kernelspec": {
   "display_name": "Python 3 (ipykernel)",
   "language": "python",
   "name": "python3"
  },
  "language_info": {
   "codemirror_mode": {
    "name": "ipython",
    "version": 3
   },
   "file_extension": ".py",
   "mimetype": "text/x-python",
   "name": "python",
   "nbconvert_exporter": "python",
   "pygments_lexer": "ipython3",
   "version": "3.9.7"
  }
 },
 "nbformat": 4,
 "nbformat_minor": 5
}
