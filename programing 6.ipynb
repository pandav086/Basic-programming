{
 "cells": [
  {
   "cell_type": "code",
   "execution_count": null,
   "id": "26ae43dc",
   "metadata": {},
   "outputs": [],
   "source": [
    "1. Write a Python Program to Display Fibonacci Sequence Using Recursion?"
   ]
  },
  {
   "cell_type": "code",
   "execution_count": 3,
   "id": "46536e6e",
   "metadata": {},
   "outputs": [
    {
     "name": "stdout",
     "output_type": "stream",
     "text": [
      " enter n th term :15\n",
      "0 1 1 2 3 5 8 13 21 34 55 89 144 233 377 610 "
     ]
    }
   ],
   "source": [
    "n = int(input(' enter n th term :'))\n",
    "\n",
    "a=0\n",
    "b=1\n",
    "\n",
    "i= 0\n",
    "while (i<=n):\n",
    "    \n",
    "    print(a , end =' ')\n",
    "    \n",
    "    c= a+b\n",
    "    a=b\n",
    "    b=c\n",
    "    \n",
    "    i = i +1\n",
    "    "
   ]
  },
  {
   "cell_type": "code",
   "execution_count": null,
   "id": "e2769436",
   "metadata": {},
   "outputs": [],
   "source": []
  },
  {
   "cell_type": "code",
   "execution_count": null,
   "id": "ccbfaeeb",
   "metadata": {},
   "outputs": [],
   "source": []
  },
  {
   "cell_type": "code",
   "execution_count": null,
   "id": "d5c1a1be",
   "metadata": {},
   "outputs": [],
   "source": [
    "2. Write a Python Program to Find Factorial of Number Using Recursion?"
   ]
  },
  {
   "cell_type": "code",
   "execution_count": 8,
   "id": "637f54aa",
   "metadata": {},
   "outputs": [
    {
     "name": "stdout",
     "output_type": "stream",
     "text": [
      " enter a number whose factorial need to be find :5\n",
      "120\n"
     ]
    }
   ],
   "source": [
    "n = int(input(' enter a number whose factorial need to be find :'))\n",
    "\n",
    "p=1\n",
    "while(n > 0):\n",
    "    p= p*n\n",
    "        \n",
    "    n = n-1\n",
    "    \n",
    "print(p)   \n"
   ]
  },
  {
   "cell_type": "code",
   "execution_count": null,
   "id": "8200972b",
   "metadata": {},
   "outputs": [],
   "source": []
  },
  {
   "cell_type": "code",
   "execution_count": null,
   "id": "836f5d94",
   "metadata": {},
   "outputs": [],
   "source": [
    "3. Write a Python Program to calculate your Body Mass Index?"
   ]
  },
  {
   "cell_type": "code",
   "execution_count": 1,
   "id": "dd49bf51",
   "metadata": {},
   "outputs": [
    {
     "name": "stdout",
     "output_type": "stream",
     "text": [
      "Input your height in metre: 4\n",
      "Input your weight in Kilogram: 65\n",
      "Your body mass index is:  4.0625\n"
     ]
    }
   ],
   "source": [
    "height = float(input(\"Input your height in metre: \"))\n",
    "weight = float(input(\"Input your weight in Kilogram: \"))\n",
    "\n",
    "BMI= weight / (height * height)\n",
    "\n",
    "\n",
    "print(\"Your body mass index is: \", BMI)"
   ]
  },
  {
   "cell_type": "code",
   "execution_count": null,
   "id": "78b52685",
   "metadata": {},
   "outputs": [],
   "source": []
  },
  {
   "cell_type": "code",
   "execution_count": null,
   "id": "073d2c22",
   "metadata": {},
   "outputs": [],
   "source": []
  },
  {
   "cell_type": "code",
   "execution_count": null,
   "id": "fed1378c",
   "metadata": {},
   "outputs": [],
   "source": [
    "4. Write a Python Program to calculate the natural logarithm of any number?"
   ]
  },
  {
   "cell_type": "code",
   "execution_count": 2,
   "id": "afd0caab",
   "metadata": {},
   "outputs": [
    {
     "name": "stdout",
     "output_type": "stream",
     "text": [
      "Enter the number: 6\n",
      "The value is: 1.791759469228055\n"
     ]
    }
   ],
   "source": [
    "import math\n",
    "\n",
    "number = int(input(\"Enter the number: \"))\n",
    "\n",
    "ans = math.log(number)\n",
    "\n",
    "print(\"The value is:\",ans)"
   ]
  },
  {
   "cell_type": "code",
   "execution_count": null,
   "id": "a043dc07",
   "metadata": {},
   "outputs": [],
   "source": []
  },
  {
   "cell_type": "code",
   "execution_count": null,
   "id": "94d5ca9b",
   "metadata": {},
   "outputs": [],
   "source": []
  },
  {
   "cell_type": "code",
   "execution_count": null,
   "id": "1601e9db",
   "metadata": {},
   "outputs": [],
   "source": [
    "5. Write a Python Program for cube sum of first n natural numbers?\n"
   ]
  },
  {
   "cell_type": "code",
   "execution_count": 6,
   "id": "666c5d1a",
   "metadata": {},
   "outputs": [
    {
     "name": "stdout",
     "output_type": "stream",
     "text": [
      " enter a number till which you want to find sum of cube of all natural numbers :4\n",
      " sum is : 100\n"
     ]
    }
   ],
   "source": [
    "a = int(input(' enter a number till which you want to find sum of cube of all natural numbers :'))\n",
    "\n",
    "sum = 0\n",
    "\n",
    "while(a >0):\n",
    "    sum = sum + a**3\n",
    "    \n",
    "    a = a-1 \n",
    "\n",
    "    \n",
    "print(' sum is :', sum)"
   ]
  },
  {
   "cell_type": "code",
   "execution_count": null,
   "id": "bdf4abfb",
   "metadata": {},
   "outputs": [],
   "source": []
  },
  {
   "cell_type": "code",
   "execution_count": null,
   "id": "c78df009",
   "metadata": {},
   "outputs": [],
   "source": []
  },
  {
   "cell_type": "code",
   "execution_count": null,
   "id": "6ee3b6ac",
   "metadata": {},
   "outputs": [],
   "source": []
  },
  {
   "cell_type": "code",
   "execution_count": null,
   "id": "eec4af9a",
   "metadata": {},
   "outputs": [],
   "source": []
  }
 ],
 "metadata": {
  "kernelspec": {
   "display_name": "Python 3 (ipykernel)",
   "language": "python",
   "name": "python3"
  },
  "language_info": {
   "codemirror_mode": {
    "name": "ipython",
    "version": 3
   },
   "file_extension": ".py",
   "mimetype": "text/x-python",
   "name": "python",
   "nbconvert_exporter": "python",
   "pygments_lexer": "ipython3",
   "version": "3.9.7"
  }
 },
 "nbformat": 4,
 "nbformat_minor": 5
}
