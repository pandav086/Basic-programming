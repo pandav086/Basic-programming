{
 "cells": [
  {
   "cell_type": "code",
   "execution_count": null,
   "id": "069ca969",
   "metadata": {},
   "outputs": [],
   "source": [
    "1.Write a Python program to print \"Hello Python\""
   ]
  },
  {
   "cell_type": "code",
   "execution_count": 1,
   "id": "2a1c5300",
   "metadata": {},
   "outputs": [
    {
     "name": "stdout",
     "output_type": "stream",
     "text": [
      "Hello Python\n"
     ]
    }
   ],
   "source": [
    "print('Hello Python')"
   ]
  },
  {
   "cell_type": "code",
   "execution_count": null,
   "id": "33c2e63c",
   "metadata": {},
   "outputs": [],
   "source": []
  },
  {
   "cell_type": "code",
   "execution_count": null,
   "id": "7e2b1456",
   "metadata": {},
   "outputs": [],
   "source": [
    "2. Write a Python program to do arithmetical operations addition and division.?"
   ]
  },
  {
   "cell_type": "code",
   "execution_count": 3,
   "id": "14a42631",
   "metadata": {},
   "outputs": [
    {
     "name": "stdout",
     "output_type": "stream",
     "text": [
      "enter the first number3\n",
      "enter second number4\n",
      "sum is  7\n",
      "div is  0.75\n"
     ]
    }
   ],
   "source": [
    "a= int(input('enter the first number'))\n",
    "b= int(input('enter second number'))\n",
    "\n",
    "c= a+ b\n",
    "print('sum is ',c)\n",
    "\n",
    "d= a/b\n",
    "\n",
    "print('div is ', d)"
   ]
  },
  {
   "cell_type": "code",
   "execution_count": null,
   "id": "1a2241a8",
   "metadata": {},
   "outputs": [],
   "source": []
  },
  {
   "cell_type": "code",
   "execution_count": null,
   "id": "981b751b",
   "metadata": {},
   "outputs": [],
   "source": [
    "3. Write a Python program to find the area of a triangle?"
   ]
  },
  {
   "cell_type": "code",
   "execution_count": 5,
   "id": "2b66ddcb",
   "metadata": {},
   "outputs": [
    {
     "name": "stdout",
     "output_type": "stream",
     "text": [
      "enter first side of traingle3\n",
      "enter second side of traingle4\n",
      "enter third side of traingle5\n",
      "area is  6.0\n"
     ]
    }
   ],
   "source": [
    "a= int(input('enter first side of traingle'))\n",
    "b= int(input('enter second side of traingle'))\n",
    "c= int(input('enter third side of traingle'))\n",
    "\n",
    "s= (a+b+c)/2\n",
    "\n",
    "area = (s*(s-a)*(s-b)*(s-c))**0.5\n",
    "\n",
    "print('area is ', area)"
   ]
  },
  {
   "cell_type": "code",
   "execution_count": null,
   "id": "67ac3a2d",
   "metadata": {},
   "outputs": [],
   "source": []
  },
  {
   "cell_type": "code",
   "execution_count": null,
   "id": "08366773",
   "metadata": {},
   "outputs": [],
   "source": []
  },
  {
   "cell_type": "code",
   "execution_count": null,
   "id": "95752b16",
   "metadata": {},
   "outputs": [],
   "source": [
    "Write a Python program to swap two variables?"
   ]
  },
  {
   "cell_type": "code",
   "execution_count": 7,
   "id": "7bb5fa6d",
   "metadata": {},
   "outputs": [
    {
     "name": "stdout",
     "output_type": "stream",
     "text": [
      "enter value of x4\n",
      "enter value of y5\n",
      "swapping value of a 5\n",
      "swapping value of b 4\n"
     ]
    }
   ],
   "source": [
    "a= input('enter value of x')\n",
    "b= input('enter value of y')\n",
    "\n",
    "temp = a\n",
    "a=b\n",
    "b=temp\n",
    "\n",
    "print('swapping value of a', a)\n",
    "print('swapping value of b', b)"
   ]
  },
  {
   "cell_type": "code",
   "execution_count": null,
   "id": "b496830f",
   "metadata": {},
   "outputs": [],
   "source": []
  },
  {
   "cell_type": "code",
   "execution_count": null,
   "id": "a6ea86fc",
   "metadata": {},
   "outputs": [],
   "source": [
    "Write a Python program to generate a random number?"
   ]
  },
  {
   "cell_type": "code",
   "execution_count": 15,
   "id": "049181f6",
   "metadata": {},
   "outputs": [
    {
     "name": "stdout",
     "output_type": "stream",
     "text": [
      "0.4814600194950053\n"
     ]
    }
   ],
   "source": [
    "import random\n",
    "a= random.random()\n",
    "print(a)"
   ]
  },
  {
   "cell_type": "code",
   "execution_count": 16,
   "id": "0c3b3ff4",
   "metadata": {},
   "outputs": [
    {
     "name": "stdout",
     "output_type": "stream",
     "text": [
      "6\n"
     ]
    }
   ],
   "source": [
    "import random\n",
    "b= random.randint(0,50)\n",
    "print(b)"
   ]
  },
  {
   "cell_type": "code",
   "execution_count": 25,
   "id": "568538ef",
   "metadata": {},
   "outputs": [
    {
     "name": "stdout",
     "output_type": "stream",
     "text": [
      "[27, 34, 38, 29, 12, 17, 21, 26, 27, 1, 2, 19, 18, 6, 47]\n"
     ]
    }
   ],
   "source": [
    "import random\n",
    "randlist=[]\n",
    "\n",
    "for i in range(15):\n",
    "\n",
    "     a= random.randint(1,50)\n",
    " \n",
    "     randlist.append(a)\n",
    "\n",
    "print(randlist)"
   ]
  },
  {
   "cell_type": "code",
   "execution_count": null,
   "id": "9df1cddc",
   "metadata": {},
   "outputs": [],
   "source": []
  },
  {
   "cell_type": "code",
   "execution_count": null,
   "id": "37c2d63b",
   "metadata": {},
   "outputs": [],
   "source": []
  }
 ],
 "metadata": {
  "kernelspec": {
   "display_name": "Python 3 (ipykernel)",
   "language": "python",
   "name": "python3"
  },
  "language_info": {
   "codemirror_mode": {
    "name": "ipython",
    "version": 3
   },
   "file_extension": ".py",
   "mimetype": "text/x-python",
   "name": "python",
   "nbconvert_exporter": "python",
   "pygments_lexer": "ipython3",
   "version": "3.9.7"
  }
 },
 "nbformat": 4,
 "nbformat_minor": 5
}
